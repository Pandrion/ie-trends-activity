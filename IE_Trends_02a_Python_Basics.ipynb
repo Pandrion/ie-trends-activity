{
  "nbformat": 4,
  "nbformat_minor": 0,
  "metadata": {
    "colab": {
      "name": "IE_Trends_02a_Python_Basics",
      "provenance": [],
      "authorship_tag": "ABX9TyOb5xQbCQPpbo/Ym4apbFXF",
      "include_colab_link": true
    },
    "kernelspec": {
      "name": "python3",
      "display_name": "Python 3"
    },
    "language_info": {
      "name": "python"
    }
  },
  "cells": [
    {
      "cell_type": "markdown",
      "metadata": {
        "id": "view-in-github",
        "colab_type": "text"
      },
      "source": [
        "<a href=\"https://colab.research.google.com/github/Pandrion/ie-trends-activity/blob/main/IE_Trends_02a_Python_Basics.ipynb\" target=\"_parent\"><img src=\"https://colab.research.google.com/assets/colab-badge.svg\" alt=\"Open In Colab\"/></a>"
      ]
    },
    {
      "cell_type": "code",
      "metadata": {
        "id": "iGr635pHwOGR"
      },
      "source": [
        "# Python "
      ],
      "execution_count": null,
      "outputs": []
    },
    {
      "cell_type": "markdown",
      "metadata": {
        "id": "0drlS4Hmw_31"
      },
      "source": [
        "Variables and Values"
      ]
    },
    {
      "cell_type": "code",
      "metadata": {
        "id": "tmK6H5xSxVMD"
      },
      "source": [
        "x = 1 \n",
        "y = 3.14 "
      ],
      "execution_count": 5,
      "outputs": []
    },
    {
      "cell_type": "markdown",
      "metadata": {
        "id": "sH_VWzTbxU6Q"
      },
      "source": [
        "Printing"
      ]
    },
    {
      "cell_type": "code",
      "metadata": {
        "colab": {
          "base_uri": "https://localhost:8080/"
        },
        "id": "LhNQ2MA4yH4Z",
        "outputId": "f863f088-ad99-4239-93ef-0c9c8adfa894"
      },
      "source": [
        "print(x)\n",
        "print(y)"
      ],
      "execution_count": 6,
      "outputs": [
        {
          "output_type": "stream",
          "text": [
            "1\n",
            "3.14\n"
          ],
          "name": "stdout"
        }
      ]
    },
    {
      "cell_type": "markdown",
      "metadata": {
        "id": "N0DIENtOzD1a"
      },
      "source": [
        "operations"
      ]
    },
    {
      "cell_type": "code",
      "metadata": {
        "colab": {
          "base_uri": "https://localhost:8080/"
        },
        "id": "5SGmBeShzOvj",
        "outputId": "6c1f5c2d-ea35-4ae3-e679-a97c5f18fafb"
      },
      "source": [
        "## Addition (also a comment line)\n",
        "z1=x+y \n",
        "## Subtract \n",
        "z2 = x - y \n",
        "## Multiplication \n",
        "z3 = x*y \n",
        "## Division \n",
        "z4 = x/y\n",
        "\n",
        "z4 "
      ],
      "execution_count": 20,
      "outputs": [
        {
          "output_type": "execute_result",
          "data": {
            "text/plain": [
              "0.3184713375796178"
            ]
          },
          "metadata": {
            "tags": []
          },
          "execution_count": 20
        }
      ]
    },
    {
      "cell_type": "markdown",
      "metadata": {
        "id": "9-ujiqul1Dcz"
      },
      "source": [
        "Coding $2^5$"
      ]
    },
    {
      "cell_type": "code",
      "metadata": {
        "colab": {
          "base_uri": "https://localhost:8080/"
        },
        "id": "7FNozs_q0PhL",
        "outputId": "5b38175a-c5b9-4083-eba4-b8e4e374fcdd"
      },
      "source": [
        "## Exponentiation \n",
        "z5 = 2**5 \n",
        "## Floor Division \n",
        "z6 = 19/2\n",
        "print(z6)\n",
        "## Trigonometric \n",
        "import math\n",
        "math.sin(y) + math.cos(x)"
      ],
      "execution_count": 28,
      "outputs": [
        {
          "output_type": "stream",
          "text": [
            "9.5\n"
          ],
          "name": "stdout"
        },
        {
          "output_type": "execute_result",
          "data": {
            "text/plain": [
              "0.5418949587846266"
            ]
          },
          "metadata": {
            "tags": []
          },
          "execution_count": 28
        }
      ]
    },
    {
      "cell_type": "markdown",
      "metadata": {
        "id": "IRQ5KHMS2z1o"
      },
      "source": [
        "## Loops\n"
      ]
    },
    {
      "cell_type": "markdown",
      "metadata": {
        "id": "NbaIHuCJ31ft"
      },
      "source": [
        "$\\sin(i)+cos(i+\\pi)$"
      ]
    },
    {
      "cell_type": "code",
      "metadata": {
        "colab": {
          "base_uri": "https://localhost:8080/"
        },
        "id": "TW60ORz424Uq",
        "outputId": "1e0cfcfe-faf9-499e-8e5e-559d93bf6e6a"
      },
      "source": [
        "for i in range(0,10): \n",
        "  print(\"Hello\")\n",
        "print(\"world\")"
      ],
      "execution_count": 29,
      "outputs": [
        {
          "output_type": "stream",
          "text": [
            "Hello\n",
            "Hello\n",
            "Hello\n",
            "Hello\n",
            "Hello\n",
            "Hello\n",
            "Hello\n",
            "Hello\n",
            "Hello\n",
            "Hello\n",
            "world\n"
          ],
          "name": "stdout"
        }
      ]
    },
    {
      "cell_type": "code",
      "metadata": {
        "colab": {
          "base_uri": "https://localhost:8080/"
        },
        "id": "9OrisZzX3t1-",
        "outputId": "84649ae1-cd10-4f57-8876-2df8a18f2295"
      },
      "source": [
        "for i in range(0,10): \n",
        "  tz = math.sin(i) + math.cos(i+math.pi)\n",
        "  print(tz)"
      ],
      "execution_count": 30,
      "outputs": [
        {
          "output_type": "stream",
          "text": [
            "-1.0\n",
            "0.30116867893975674\n",
            "1.325444263372824\n",
            "1.1311125046603125\n",
            "-0.10315887444431615\n",
            "-1.2425864601263645\n",
            "-1.2395857848492917\n",
            "-0.09691565562451565\n",
            "1.134858280431995\n",
            "1.3232487471264336\n"
          ],
          "name": "stdout"
        }
      ]
    },
    {
      "cell_type": "markdown",
      "metadata": {
        "id": "V2-BT8Sj401A"
      },
      "source": [
        "sin (i) "
      ]
    },
    {
      "cell_type": "code",
      "metadata": {
        "colab": {
          "base_uri": "https://localhost:8080/"
        },
        "id": "Gy4OuUnn47sw",
        "outputId": "4a965de9-c870-4e1f-ae85-716af1c9c52d"
      },
      "source": [
        "tz=0\n",
        "for i in range(0,10):\n",
        "  print(tz) \n",
        "  tz += 1\n",
        "  # print(tz) "
      ],
      "execution_count": 31,
      "outputs": [
        {
          "output_type": "stream",
          "text": [
            "0\n",
            "1\n",
            "2\n",
            "3\n",
            "4\n",
            "5\n",
            "6\n",
            "7\n",
            "8\n",
            "9\n"
          ],
          "name": "stdout"
        }
      ]
    },
    {
      "cell_type": "code",
      "metadata": {
        "colab": {
          "base_uri": "https://localhost:8080/"
        },
        "id": "U_e9P6Gc5QyL",
        "outputId": "fe7aa011-5fb2-4dde-c162-5942915fe8bb"
      },
      "source": [
        "## Summation \n",
        "tz=0 \n",
        "for i in range(0,10): ##range(min,max) --> min to max-1\n",
        "  tz += math.sin(i) + math.cos(i+math.pi) \n",
        "  print(tz) "
      ],
      "execution_count": 40,
      "outputs": [
        {
          "output_type": "stream",
          "text": [
            "-1.0\n",
            "-0.6988313210602433\n",
            "0.6266129423125808\n",
            "1.7577254469728933\n",
            "1.6545665725285772\n",
            "0.41198011240221266\n",
            "-0.827605672447079\n",
            "-0.9245213280715947\n",
            "0.2103369523604004\n",
            "1.533585699486834\n"
          ],
          "name": "stdout"
        }
      ]
    },
    {
      "cell_type": "markdown",
      "metadata": {
        "id": "ZbdxB1gQ564k"
      },
      "source": [
        "# Functions"
      ]
    },
    {
      "cell_type": "markdown",
      "metadata": {
        "id": "VWS83O7U6L80"
      },
      "source": [
        "$S - i^2$"
      ]
    },
    {
      "cell_type": "code",
      "metadata": {
        "colab": {
          "base_uri": "https://localhost:8080/"
        },
        "id": "8mhVenkH6Vp2",
        "outputId": "bceb37fa-2870-495b-fa2f-003c469fa8f5"
      },
      "source": [
        "s=0 \n",
        "for i in range(0,10): \n",
        "  s+=i\n",
        "  h=s-i**2 \n",
        "  print(h)"
      ],
      "execution_count": 37,
      "outputs": [
        {
          "output_type": "stream",
          "text": [
            "0\n",
            "0\n",
            "-1\n",
            "-3\n",
            "-6\n",
            "-10\n",
            "-15\n",
            "-21\n",
            "-28\n",
            "-36\n"
          ],
          "name": "stdout"
        }
      ]
    },
    {
      "cell_type": "code",
      "metadata": {
        "colab": {
          "base_uri": "https://localhost:8080/",
          "height": 197
        },
        "id": "YqRcAy7D58mx",
        "outputId": "9f0ecc39-5951-4094-90d6-0931f6b75226"
      },
      "source": [
        "s=0\n",
        "for i in range(0,10): \n",
        "  s+=i \n",
        "  print(equation1,(s,i))"
      ],
      "execution_count": 39,
      "outputs": [
        {
          "output_type": "error",
          "ename": "NameError",
          "evalue": "ignored",
          "traceback": [
            "\u001b[0;31m---------------------------------------------------------------------------\u001b[0m",
            "\u001b[0;31mNameError\u001b[0m                                 Traceback (most recent call last)",
            "\u001b[0;32m<ipython-input-39-62c85b041911>\u001b[0m in \u001b[0;36m<module>\u001b[0;34m()\u001b[0m\n\u001b[1;32m      2\u001b[0m \u001b[0;32mfor\u001b[0m \u001b[0mi\u001b[0m \u001b[0;32min\u001b[0m \u001b[0mrange\u001b[0m\u001b[0;34m(\u001b[0m\u001b[0;36m0\u001b[0m\u001b[0;34m,\u001b[0m\u001b[0;36m10\u001b[0m\u001b[0;34m)\u001b[0m\u001b[0;34m:\u001b[0m\u001b[0;34m\u001b[0m\u001b[0;34m\u001b[0m\u001b[0m\n\u001b[1;32m      3\u001b[0m   \u001b[0ms\u001b[0m\u001b[0;34m+=\u001b[0m\u001b[0mi\u001b[0m\u001b[0;34m\u001b[0m\u001b[0;34m\u001b[0m\u001b[0m\n\u001b[0;32m----> 4\u001b[0;31m   \u001b[0mprint\u001b[0m\u001b[0;34m(\u001b[0m\u001b[0mequation1\u001b[0m\u001b[0;34m,\u001b[0m\u001b[0;34m(\u001b[0m\u001b[0ms\u001b[0m\u001b[0;34m,\u001b[0m\u001b[0mi\u001b[0m\u001b[0;34m)\u001b[0m\u001b[0;34m)\u001b[0m\u001b[0;34m\u001b[0m\u001b[0;34m\u001b[0m\u001b[0m\n\u001b[0m",
            "\u001b[0;31mNameError\u001b[0m: name 'equation1' is not defined"
          ]
        }
      ]
    },
    {
      "cell_type": "code",
      "metadata": {
        "id": "7HtTLzHA6wJ2"
      },
      "source": [
        "def equation1(s,i):\n",
        "  return s-i**2"
      ],
      "execution_count": null,
      "outputs": []
    }
  ]
}